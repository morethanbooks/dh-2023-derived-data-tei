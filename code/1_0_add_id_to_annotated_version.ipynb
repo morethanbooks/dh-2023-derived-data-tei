{
 "cells": [
  {
   "cell_type": "code",
   "execution_count": 10,
   "metadata": {},
   "outputs": [],
   "source": [
    "import sys\n",
    "import os\n",
    "#sys.path.append(os.path.abspath(\"C:/Users/calvotello/Dropbox/Doktorarbeit/novelasespanolas/code/\"))\n",
    "sys.path.append(os.path.abspath(\"./../functions/\"))\n",
    "from collections import Counter\n",
    "import matplotlib.pyplot as plt\n",
    "%matplotlib inline\n",
    "import pandas as pd\n",
    "import re\n",
    "import pandas as pd\n",
    "import requests\n",
    "import time\n",
    "from lxml import etree\n",
    "import glob"
   ]
  },
  {
   "cell_type": "code",
   "execution_count": 11,
   "metadata": {},
   "outputs": [],
   "source": [
    "document = etree.parse('./../data/tei-annotated/de_gb14397.xml')"
   ]
  },
  {
   "cell_type": "code",
   "execution_count": 12,
   "metadata": {},
   "outputs": [],
   "source": [
    "namespaces = {'tei':'http://www.tei-c.org/ns/1.0','cligs':'https://cligs.hypotheses.org/ns/cligs'}"
   ]
  },
  {
   "cell_type": "code",
   "execution_count": 13,
   "metadata": {},
   "outputs": [],
   "source": [
    "chapters = document.xpath('//tei:body//tei:div', namespaces=namespaces)"
   ]
  },
  {
   "cell_type": "code",
   "execution_count": 14,
   "metadata": {},
   "outputs": [],
   "source": [
    "input_dir =  './../data/tei-annotated/'\n",
    "output_dir = './../data/tei-annotated-id/'"
   ]
  },
  {
   "cell_type": "code",
   "execution_count": 17,
   "metadata": {},
   "outputs": [
    {
     "name": "stdout",
     "output_type": "stream",
     "text": [
      "de_gb14397\n",
      "en_amdram1\n",
      "es_ne0120\n",
      "fr_Aarons_Attila\n",
      "zh_Luxun_Kuangren\n"
     ]
    }
   ],
   "source": [
    "for doc_str in glob.glob(input_dir + \"*.xml\"):\n",
    "    input_name_str  = os.path.splitext(os.path.split(doc_str)[1])[0]\n",
    "    print(input_name_str)\n",
    "\n",
    "    documento = etree.parse(input_dir + input_name_str + \".xml\")\n",
    "\n",
    "    chapters = documento.xpath('//tei:text/tei:body/tei:div', namespaces=namespaces)\n",
    "\n",
    "    for chapter in chapters:\n",
    "        chapter_id = chapter.xpath(\"./@xml:id\", namespaces=namespaces)[0]\n",
    "        #print(chapter_id)\n",
    "\n",
    "        i = 0\n",
    "        xpath = \".//*[self::tei:div or self::tei:p or self::tei:quote or self::tei:ab or self::tei:stage or self::tei:seg or self::tei:s or self::tei:floatingText or self::tei:quote or self::tei:lg or self::tei:l or self::tei:sp or self::tei:speaker or self::tei:body or self::tei:head]\"\n",
    "\n",
    "        for element in chapter.xpath(xpath, namespaces=namespaces):\n",
    "            element_tag = element.tag[29:]\n",
    "            element_id = chapter_id + \"_\" + element_tag + str(i)\n",
    "            element.attrib[\"xml_id\"] = element_id\n",
    "            i += 1\n",
    "\n",
    "    documento.write(output_dir +  input_name_str + \".xml\", encoding=\"utf-8\")\n"
   ]
  },
  {
   "cell_type": "code",
   "execution_count": 18,
   "metadata": {},
   "outputs": [],
   "source": [
    "for doc_str in glob.glob(output_dir + \"*.xml\"):\n",
    "    input_name_str  = os.path.splitext(os.path.split(doc_str)[1])[0]\n",
    "    with open(doc_str, \"r\", errors=\"replace\", encoding=\"utf-8\") as fin:\n",
    "        content_str = fin.read()    \n",
    "    \n",
    "    content_str = re.sub(r\"xml_id\", r\"xml:id\", content_str)\n",
    "    \n",
    "    with open (output_dir + input_name_str + \".xml\", \"w\", encoding=\"utf-8\") as fout:\n",
    "        fout.write(content_str)"
   ]
  },
  {
   "cell_type": "code",
   "execution_count": null,
   "metadata": {},
   "outputs": [],
   "source": []
  }
 ],
 "metadata": {
  "kernelspec": {
   "display_name": "Python 3.7.6 ('base')",
   "language": "python",
   "name": "python3"
  },
  "language_info": {
   "codemirror_mode": {
    "name": "ipython",
    "version": 3
   },
   "file_extension": ".py",
   "mimetype": "text/x-python",
   "name": "python",
   "nbconvert_exporter": "python",
   "pygments_lexer": "ipython3",
   "version": "3.7.6"
  },
  "vscode": {
   "interpreter": {
    "hash": "f47a9bd213414a99a19c677dbc3fe06cd2e784c4236a07176834505119fd1ea8"
   }
  }
 },
 "nbformat": 4,
 "nbformat_minor": 1
}
